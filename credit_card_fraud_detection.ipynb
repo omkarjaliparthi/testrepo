{
  "nbformat": 4,
  "nbformat_minor": 0,
  "metadata": {
    "colab": {
      "provenance": [],
      "mount_file_id": "1oJo9LK1NR5kxu_IYqiMIycqLM2w8QmNJ",
      "authorship_tag": "ABX9TyOTntHQ7jnv8BuWnBznyegy",
      "include_colab_link": true
    },
    "kernelspec": {
      "name": "python3",
      "display_name": "Python 3"
    },
    "language_info": {
      "name": "python"
    }
  },
  "cells": [
    {
      "cell_type": "markdown",
      "metadata": {
        "id": "view-in-github",
        "colab_type": "text"
      },
      "source": [
        "<a href=\"https://colab.research.google.com/github/omkarjaliparthi/testrepo/blob/main/credit_card_fraud_detection.ipynb\" target=\"_parent\"><img src=\"https://colab.research.google.com/assets/colab-badge.svg\" alt=\"Open In Colab\"/></a>"
      ]
    },
    {
      "source": [
        "import pandas as pd\n",
        "from sklearn.preprocessing import StandardScaler\n",
        "from imblearn.over_sampling import SMOTE\n",
        "\n",
        "# Load data\n",
        "df = pd.read_csv('creditcard.csv')\n",
        "\n",
        "# Normalize 'Amount' and 'Time'\n",
        "scaler = StandardScaler()\n",
        "df['Amount'] = scaler.fit_transform(df[['Amount']])\n",
        "df['Time'] = scaler.fit_transform(df[['Time']])\n",
        "\n",
        "# Balance classes with SMOTE\n",
        "X = df.drop('Class', axis=1)\n",
        "y = df['Class']\n",
        "\n",
        "# ----> Added lines to handle NaN values in 'y' <----\n",
        "# Check if 'y' contains NaN values\n",
        "if y.isnull().any():\n",
        "    # Remove rows with NaN values in 'y' from both X and y\n",
        "    X = X[~y.isnull()]  # Use boolean indexing to keep non-NaN rows\n",
        "    y = y[~y.isnull()]  # Use boolean indexing to keep non-NaN rows\n",
        "# ----> End of added lines <----\n",
        "\n",
        "\n",
        "smote = SMOTE()\n",
        "X_res, y_res = smote.fit_resample(X, y)"
      ],
      "cell_type": "code",
      "metadata": {
        "id": "5iB-wqjrfYfH"
      },
      "execution_count": 4,
      "outputs": []
    },
    {
      "cell_type": "code",
      "source": [
        "import tensorflow as tf\n",
        "from tensorflow.keras.models import Sequential\n",
        "from tensorflow.keras.layers import Dense\n",
        "\n",
        "# Define the model\n",
        "model = Sequential([\n",
        "    Dense(64, activation='relu', input_shape=(X_res.shape[1],)),\n",
        "    Dense(32, activation='relu'),\n",
        "    Dense(1, activation='sigmoid')\n",
        "])\n",
        "\n",
        "# Compile the model\n",
        "model.compile(optimizer='adam', loss='binary_crossentropy', metrics=['Precision', 'Recall'])\n",
        "\n",
        "# Train the model\n",
        "history = model.fit(X_res, y_res, epochs=20, batch_size=64, validation_split=0.2)\n"
      ],
      "metadata": {
        "colab": {
          "base_uri": "https://localhost:8080/"
        },
        "id": "rMrv69VWfeXc",
        "outputId": "cf4ae6ed-d9ce-4a44-8d2a-25a3a12b55a3"
      },
      "execution_count": 5,
      "outputs": [
        {
          "output_type": "stream",
          "name": "stderr",
          "text": [
            "/usr/local/lib/python3.10/dist-packages/keras/src/layers/core/dense.py:87: UserWarning: Do not pass an `input_shape`/`input_dim` argument to a layer. When using Sequential models, prefer using an `Input(shape)` object as the first layer in the model instead.\n",
            "  super().__init__(activity_regularizer=activity_regularizer, **kwargs)\n"
          ]
        },
        {
          "output_type": "stream",
          "name": "stdout",
          "text": [
            "Epoch 1/20\n",
            "\u001b[1m4451/4451\u001b[0m \u001b[32m━━━━━━━━━━━━━━━━━━━━\u001b[0m\u001b[37m\u001b[0m \u001b[1m19s\u001b[0m 4ms/step - Precision: 0.9766 - Recall: 0.9619 - loss: 0.0632 - val_Precision: 1.0000 - val_Recall: 0.9999 - val_loss: 0.0047\n",
            "Epoch 2/20\n",
            "\u001b[1m4451/4451\u001b[0m \u001b[32m━━━━━━━━━━━━━━━━━━━━\u001b[0m\u001b[37m\u001b[0m \u001b[1m11s\u001b[0m 2ms/step - Precision: 0.9976 - Recall: 0.9996 - loss: 0.0051 - val_Precision: 1.0000 - val_Recall: 0.9988 - val_loss: 0.0037\n",
            "Epoch 3/20\n",
            "\u001b[1m4451/4451\u001b[0m \u001b[32m━━━━━━━━━━━━━━━━━━━━\u001b[0m\u001b[37m\u001b[0m \u001b[1m13s\u001b[0m 2ms/step - Precision: 0.9985 - Recall: 0.9997 - loss: 0.0033 - val_Precision: 1.0000 - val_Recall: 0.9952 - val_loss: 0.0154\n",
            "Epoch 4/20\n",
            "\u001b[1m4451/4451\u001b[0m \u001b[32m━━━━━━━━━━━━━━━━━━━━\u001b[0m\u001b[37m\u001b[0m \u001b[1m20s\u001b[0m 2ms/step - Precision: 0.9988 - Recall: 0.9995 - loss: 0.0027 - val_Precision: 1.0000 - val_Recall: 1.0000 - val_loss: 3.4920e-04\n",
            "Epoch 5/20\n",
            "\u001b[1m4451/4451\u001b[0m \u001b[32m━━━━━━━━━━━━━━━━━━━━\u001b[0m\u001b[37m\u001b[0m \u001b[1m8s\u001b[0m 2ms/step - Precision: 0.9990 - Recall: 0.9998 - loss: 0.0020 - val_Precision: 1.0000 - val_Recall: 1.0000 - val_loss: 4.2866e-04\n",
            "Epoch 6/20\n",
            "\u001b[1m4451/4451\u001b[0m \u001b[32m━━━━━━━━━━━━━━━━━━━━\u001b[0m\u001b[37m\u001b[0m \u001b[1m10s\u001b[0m 2ms/step - Precision: 0.9990 - Recall: 0.9997 - loss: 0.0022 - val_Precision: 1.0000 - val_Recall: 1.0000 - val_loss: 1.5531e-04\n",
            "Epoch 7/20\n",
            "\u001b[1m4451/4451\u001b[0m \u001b[32m━━━━━━━━━━━━━━━━━━━━\u001b[0m\u001b[37m\u001b[0m \u001b[1m10s\u001b[0m 2ms/step - Precision: 0.9993 - Recall: 0.9999 - loss: 0.0017 - val_Precision: 1.0000 - val_Recall: 1.0000 - val_loss: 4.7358e-04\n",
            "Epoch 8/20\n",
            "\u001b[1m4451/4451\u001b[0m \u001b[32m━━━━━━━━━━━━━━━━━━━━\u001b[0m\u001b[37m\u001b[0m \u001b[1m8s\u001b[0m 2ms/step - Precision: 0.9992 - Recall: 0.9998 - loss: 0.0017 - val_Precision: 1.0000 - val_Recall: 1.0000 - val_loss: 0.0011\n",
            "Epoch 9/20\n",
            "\u001b[1m4451/4451\u001b[0m \u001b[32m━━━━━━━━━━━━━━━━━━━━\u001b[0m\u001b[37m\u001b[0m \u001b[1m12s\u001b[0m 2ms/step - Precision: 0.9994 - Recall: 0.9999 - loss: 0.0013 - val_Precision: 1.0000 - val_Recall: 1.0000 - val_loss: 4.0966e-04\n",
            "Epoch 10/20\n",
            "\u001b[1m4451/4451\u001b[0m \u001b[32m━━━━━━━━━━━━━━━━━━━━\u001b[0m\u001b[37m\u001b[0m \u001b[1m11s\u001b[0m 2ms/step - Precision: 0.9995 - Recall: 0.9998 - loss: 0.0012 - val_Precision: 1.0000 - val_Recall: 0.9991 - val_loss: 0.0026\n",
            "Epoch 11/20\n",
            "\u001b[1m4451/4451\u001b[0m \u001b[32m━━━━━━━━━━━━━━━━━━━━\u001b[0m\u001b[37m\u001b[0m \u001b[1m8s\u001b[0m 2ms/step - Precision: 0.9992 - Recall: 0.9998 - loss: 0.0014 - val_Precision: 1.0000 - val_Recall: 1.0000 - val_loss: 8.9731e-04\n",
            "Epoch 12/20\n",
            "\u001b[1m4451/4451\u001b[0m \u001b[32m━━━━━━━━━━━━━━━━━━━━\u001b[0m\u001b[37m\u001b[0m \u001b[1m11s\u001b[0m 2ms/step - Precision: 0.9996 - Recall: 0.9999 - loss: 8.0469e-04 - val_Precision: 1.0000 - val_Recall: 1.0000 - val_loss: 6.4443e-04\n",
            "Epoch 13/20\n",
            "\u001b[1m4451/4451\u001b[0m \u001b[32m━━━━━━━━━━━━━━━━━━━━\u001b[0m\u001b[37m\u001b[0m \u001b[1m10s\u001b[0m 2ms/step - Precision: 0.9995 - Recall: 0.9997 - loss: 0.0012 - val_Precision: 1.0000 - val_Recall: 0.9988 - val_loss: 0.0045\n",
            "Epoch 14/20\n",
            "\u001b[1m4451/4451\u001b[0m \u001b[32m━━━━━━━━━━━━━━━━━━━━\u001b[0m\u001b[37m\u001b[0m \u001b[1m8s\u001b[0m 2ms/step - Precision: 0.9995 - Recall: 0.9998 - loss: 7.9632e-04 - val_Precision: 1.0000 - val_Recall: 1.0000 - val_loss: 2.9258e-04\n",
            "Epoch 15/20\n",
            "\u001b[1m4451/4451\u001b[0m \u001b[32m━━━━━━━━━━━━━━━━━━━━\u001b[0m\u001b[37m\u001b[0m \u001b[1m11s\u001b[0m 2ms/step - Precision: 0.9997 - Recall: 0.9999 - loss: 8.0958e-04 - val_Precision: 1.0000 - val_Recall: 1.0000 - val_loss: 1.6262e-04\n",
            "Epoch 16/20\n",
            "\u001b[1m4451/4451\u001b[0m \u001b[32m━━━━━━━━━━━━━━━━━━━━\u001b[0m\u001b[37m\u001b[0m \u001b[1m10s\u001b[0m 2ms/step - Precision: 0.9996 - Recall: 0.9999 - loss: 7.1252e-04 - val_Precision: 1.0000 - val_Recall: 1.0000 - val_loss: 9.2667e-05\n",
            "Epoch 17/20\n",
            "\u001b[1m4451/4451\u001b[0m \u001b[32m━━━━━━━━━━━━━━━━━━━━\u001b[0m\u001b[37m\u001b[0m \u001b[1m8s\u001b[0m 2ms/step - Precision: 0.9996 - Recall: 0.9999 - loss: 7.5746e-04 - val_Precision: 1.0000 - val_Recall: 1.0000 - val_loss: 1.2670e-04\n",
            "Epoch 18/20\n",
            "\u001b[1m4451/4451\u001b[0m \u001b[32m━━━━━━━━━━━━━━━━━━━━\u001b[0m\u001b[37m\u001b[0m \u001b[1m10s\u001b[0m 2ms/step - Precision: 0.9996 - Recall: 0.9999 - loss: 6.4110e-04 - val_Precision: 1.0000 - val_Recall: 1.0000 - val_loss: 7.9599e-05\n",
            "Epoch 19/20\n",
            "\u001b[1m4451/4451\u001b[0m \u001b[32m━━━━━━━━━━━━━━━━━━━━\u001b[0m\u001b[37m\u001b[0m \u001b[1m11s\u001b[0m 2ms/step - Precision: 0.9997 - Recall: 0.9999 - loss: 6.5151e-04 - val_Precision: 1.0000 - val_Recall: 1.0000 - val_loss: 7.0989e-05\n",
            "Epoch 20/20\n",
            "\u001b[1m4451/4451\u001b[0m \u001b[32m━━━━━━━━━━━━━━━━━━━━\u001b[0m\u001b[37m\u001b[0m \u001b[1m10s\u001b[0m 2ms/step - Precision: 0.9997 - Recall: 0.9997 - loss: 7.7886e-04 - val_Precision: 1.0000 - val_Recall: 1.0000 - val_loss: 1.1542e-04\n"
          ]
        }
      ]
    },
    {
      "cell_type": "code",
      "source": [
        "autoencoder = Sequential([\n",
        "    Dense(64, activation='relu', input_shape=(X.shape[1],)),\n",
        "    Dense(10, activation='relu'),  # Bottleneck layer\n",
        "    Dense(64, activation='relu'),\n",
        "    Dense(X.shape[1], activation='sigmoid')\n",
        "])\n",
        "\n",
        "autoencoder.compile(optimizer='adam', loss='mse')\n",
        "autoencoder.fit(X[y == 0], X[y == 0], epochs=10, batch_size=64, validation_split=0.2)\n"
      ],
      "metadata": {
        "colab": {
          "base_uri": "https://localhost:8080/"
        },
        "id": "HSAWLFW0g5uh",
        "outputId": "ed4d4187-cf71-480b-e407-508e568c80fe"
      },
      "execution_count": 7,
      "outputs": [
        {
          "output_type": "stream",
          "name": "stderr",
          "text": [
            "/usr/local/lib/python3.10/dist-packages/keras/src/layers/core/dense.py:87: UserWarning: Do not pass an `input_shape`/`input_dim` argument to a layer. When using Sequential models, prefer using an `Input(shape)` object as the first layer in the model instead.\n",
            "  super().__init__(activity_regularizer=activity_regularizer, **kwargs)\n"
          ]
        },
        {
          "output_type": "stream",
          "name": "stdout",
          "text": [
            "Epoch 1/10\n",
            "\u001b[1m2226/2226\u001b[0m \u001b[32m━━━━━━━━━━━━━━━━━━━━\u001b[0m\u001b[37m\u001b[0m \u001b[1m6s\u001b[0m 2ms/step - loss: 0.8227 - val_loss: 1.0000\n",
            "Epoch 2/10\n",
            "\u001b[1m2226/2226\u001b[0m \u001b[32m━━━━━━━━━━━━━━━━━━━━\u001b[0m\u001b[37m\u001b[0m \u001b[1m6s\u001b[0m 3ms/step - loss: 0.7276 - val_loss: 0.9857\n",
            "Epoch 3/10\n",
            "\u001b[1m2226/2226\u001b[0m \u001b[32m━━━━━━━━━━━━━━━━━━━━\u001b[0m\u001b[37m\u001b[0m \u001b[1m8s\u001b[0m 2ms/step - loss: 0.7127 - val_loss: 0.9739\n",
            "Epoch 4/10\n",
            "\u001b[1m2226/2226\u001b[0m \u001b[32m━━━━━━━━━━━━━━━━━━━━\u001b[0m\u001b[37m\u001b[0m \u001b[1m5s\u001b[0m 2ms/step - loss: 0.7112 - val_loss: 0.9703\n",
            "Epoch 5/10\n",
            "\u001b[1m2226/2226\u001b[0m \u001b[32m━━━━━━━━━━━━━━━━━━━━\u001b[0m\u001b[37m\u001b[0m \u001b[1m5s\u001b[0m 2ms/step - loss: 0.7221 - val_loss: 0.9669\n",
            "Epoch 6/10\n",
            "\u001b[1m2226/2226\u001b[0m \u001b[32m━━━━━━━━━━━━━━━━━━━━\u001b[0m\u001b[37m\u001b[0m \u001b[1m6s\u001b[0m 3ms/step - loss: 0.7226 - val_loss: 0.9642\n",
            "Epoch 7/10\n",
            "\u001b[1m2226/2226\u001b[0m \u001b[32m━━━━━━━━━━━━━━━━━━━━\u001b[0m\u001b[37m\u001b[0m \u001b[1m5s\u001b[0m 2ms/step - loss: 0.7157 - val_loss: 0.9616\n",
            "Epoch 8/10\n",
            "\u001b[1m2226/2226\u001b[0m \u001b[32m━━━━━━━━━━━━━━━━━━━━\u001b[0m\u001b[37m\u001b[0m \u001b[1m4s\u001b[0m 2ms/step - loss: 0.7147 - val_loss: 0.9581\n",
            "Epoch 9/10\n",
            "\u001b[1m2226/2226\u001b[0m \u001b[32m━━━━━━━━━━━━━━━━━━━━\u001b[0m\u001b[37m\u001b[0m \u001b[1m6s\u001b[0m 2ms/step - loss: 0.6944 - val_loss: 0.9585\n",
            "Epoch 10/10\n",
            "\u001b[1m2226/2226\u001b[0m \u001b[32m━━━━━━━━━━━━━━━━━━━━\u001b[0m\u001b[37m\u001b[0m \u001b[1m4s\u001b[0m 2ms/step - loss: 0.7114 - val_loss: 0.9564\n"
          ]
        },
        {
          "output_type": "execute_result",
          "data": {
            "text/plain": [
              "<keras.src.callbacks.history.History at 0x7e7596f2b100>"
            ]
          },
          "metadata": {},
          "execution_count": 7
        }
      ]
    },
    {
      "source": [
        "import pandas as pd\n",
        "from sklearn.preprocessing import StandardScaler\n",
        "from imblearn.over_sampling import SMOTE\n",
        "from sklearn.model_selection import train_test_split # Import train_test_split\n",
        "from sklearn.metrics import confusion_matrix, classification_report\n",
        "import tensorflow as tf\n",
        "from tensorflow.keras.models import Sequential\n",
        "from tensorflow.keras.layers import Dense\n",
        "\n",
        "\n",
        "# Load data\n",
        "df = pd.read_csv('creditcard.csv')\n",
        "\n",
        "# Normalize 'Amount' and 'Time'\n",
        "scaler = StandardScaler()\n",
        "df['Amount'] = scaler.fit_transform(df[['Amount']])\n",
        "df['Time'] = scaler.fit_transform(df[['Time']])\n",
        "\n",
        "# Balance classes with SMOTE\n",
        "X = df.drop('Class', axis=1)\n",
        "y = df['Class']\n",
        "\n",
        "# ----> Added lines to handle NaN values in 'y' <----\n",
        "# Check if 'y' contains NaN values\n",
        "if y.isnull().any():\n",
        "    # Remove rows with NaN values in 'y' from both X and y\n",
        "    X = X[~y.isnull()]  # Use boolean indexing to keep non-NaN rows\n",
        "    y = y[~y.isnull()]  # Use boolean indexing to keep non-NaN rows\n",
        "# ----> End of added lines <----\n",
        "\n",
        "\n",
        "smote = SMOTE()\n",
        "X_res, y_res = smote.fit_resample(X, y)\n",
        "\n",
        "\n",
        "# Split data into training and testing sets\n",
        "X_train, X_test, y_train, y_test = train_test_split(X_res, y_res, test_size=0.2, random_state=42) # Split the resampled data\n",
        "\n",
        "# Define the model\n",
        "model = Sequential([\n",
        "    Dense(64, activation='relu', input_shape=(X_res.shape[1],)),\n",
        "    Dense(32, activation='relu'),\n",
        "    Dense(1, activation='sigmoid')\n",
        "])\n",
        "\n",
        "# Compile the model\n",
        "model.compile(optimizer='adam', loss='binary_crossentropy', metrics=['Precision', 'Recall'])\n",
        "\n",
        "# Train the model\n",
        "history = model.fit(X_train, y_train, epochs=20, batch_size=64, validation_split=0.2) # Train on X_train and y_train\n",
        "\n",
        "\n",
        "# Make predictions\n",
        "y_pred = model.predict(X_test).round() # Predict on X_test\n",
        "cm = confusion_matrix(y_test, y_pred)\n",
        "print(classification_report(y_test, y_pred)) # Evaluate on y_test"
      ],
      "cell_type": "code",
      "metadata": {
        "colab": {
          "base_uri": "https://localhost:8080/"
        },
        "id": "5XpHDjf6hjb4",
        "outputId": "daf60475-9651-4e88-820f-2528189dda3a"
      },
      "execution_count": 9,
      "outputs": [
        {
          "output_type": "stream",
          "name": "stderr",
          "text": [
            "/usr/local/lib/python3.10/dist-packages/keras/src/layers/core/dense.py:87: UserWarning: Do not pass an `input_shape`/`input_dim` argument to a layer. When using Sequential models, prefer using an `Input(shape)` object as the first layer in the model instead.\n",
            "  super().__init__(activity_regularizer=activity_regularizer, **kwargs)\n"
          ]
        },
        {
          "output_type": "stream",
          "name": "stdout",
          "text": [
            "Epoch 1/20\n",
            "\u001b[1m5687/5687\u001b[0m \u001b[32m━━━━━━━━━━━━━━━━━━━━\u001b[0m\u001b[37m\u001b[0m \u001b[1m16s\u001b[0m 2ms/step - Precision: 0.9706 - Recall: 0.9664 - loss: 0.0782 - val_Precision: 0.9969 - val_Recall: 1.0000 - val_loss: 0.0070\n",
            "Epoch 2/20\n",
            "\u001b[1m5687/5687\u001b[0m \u001b[32m━━━━━━━━━━━━━━━━━━━━\u001b[0m\u001b[37m\u001b[0m \u001b[1m12s\u001b[0m 2ms/step - Precision: 0.9974 - Recall: 0.9997 - loss: 0.0068 - val_Precision: 0.9989 - val_Recall: 0.9997 - val_loss: 0.0051\n",
            "Epoch 3/20\n",
            "\u001b[1m5687/5687\u001b[0m \u001b[32m━━━━━━━━━━━━━━━━━━━━\u001b[0m\u001b[37m\u001b[0m \u001b[1m11s\u001b[0m 2ms/step - Precision: 0.9984 - Recall: 0.9997 - loss: 0.0044 - val_Precision: 0.9985 - val_Recall: 1.0000 - val_loss: 0.0031\n",
            "Epoch 4/20\n",
            "\u001b[1m5687/5687\u001b[0m \u001b[32m━━━━━━━━━━━━━━━━━━━━\u001b[0m\u001b[37m\u001b[0m \u001b[1m23s\u001b[0m 2ms/step - Precision: 0.9988 - Recall: 0.9997 - loss: 0.0032 - val_Precision: 0.9992 - val_Recall: 0.9966 - val_loss: 0.0060\n",
            "Epoch 5/20\n",
            "\u001b[1m5687/5687\u001b[0m \u001b[32m━━━━━━━━━━━━━━━━━━━━\u001b[0m\u001b[37m\u001b[0m \u001b[1m13s\u001b[0m 2ms/step - Precision: 0.9990 - Recall: 0.9997 - loss: 0.0024 - val_Precision: 0.9996 - val_Recall: 1.0000 - val_loss: 0.0023\n",
            "Epoch 6/20\n",
            "\u001b[1m5687/5687\u001b[0m \u001b[32m━━━━━━━━━━━━━━━━━━━━\u001b[0m\u001b[37m\u001b[0m \u001b[1m13s\u001b[0m 2ms/step - Precision: 0.9991 - Recall: 0.9998 - loss: 0.0026 - val_Precision: 0.9991 - val_Recall: 1.0000 - val_loss: 0.0020\n",
            "Epoch 7/20\n",
            "\u001b[1m5687/5687\u001b[0m \u001b[32m━━━━━━━━━━━━━━━━━━━━\u001b[0m\u001b[37m\u001b[0m \u001b[1m20s\u001b[0m 2ms/step - Precision: 0.9993 - Recall: 0.9998 - loss: 0.0022 - val_Precision: 0.9993 - val_Recall: 1.0000 - val_loss: 0.0019\n",
            "Epoch 8/20\n",
            "\u001b[1m5687/5687\u001b[0m \u001b[32m━━━━━━━━━━━━━━━━━━━━\u001b[0m\u001b[37m\u001b[0m \u001b[1m13s\u001b[0m 2ms/step - Precision: 0.9994 - Recall: 0.9999 - loss: 0.0016 - val_Precision: 0.9990 - val_Recall: 1.0000 - val_loss: 0.0018\n",
            "Epoch 9/20\n",
            "\u001b[1m5687/5687\u001b[0m \u001b[32m━━━━━━━━━━━━━━━━━━━━\u001b[0m\u001b[37m\u001b[0m \u001b[1m19s\u001b[0m 2ms/step - Precision: 0.9992 - Recall: 0.9997 - loss: 0.0018 - val_Precision: 0.9992 - val_Recall: 1.0000 - val_loss: 0.0023\n",
            "Epoch 10/20\n",
            "\u001b[1m5687/5687\u001b[0m \u001b[32m━━━━━━━━━━━━━━━━━━━━\u001b[0m\u001b[37m\u001b[0m \u001b[1m11s\u001b[0m 2ms/step - Precision: 0.9994 - Recall: 0.9997 - loss: 0.0015 - val_Precision: 0.9994 - val_Recall: 1.0000 - val_loss: 0.0020\n",
            "Epoch 11/20\n",
            "\u001b[1m5687/5687\u001b[0m \u001b[32m━━━━━━━━━━━━━━━━━━━━\u001b[0m\u001b[37m\u001b[0m \u001b[1m12s\u001b[0m 2ms/step - Precision: 0.9995 - Recall: 0.9998 - loss: 0.0013 - val_Precision: 0.9995 - val_Recall: 0.9987 - val_loss: 0.0033\n",
            "Epoch 12/20\n",
            "\u001b[1m5687/5687\u001b[0m \u001b[32m━━━━━━━━━━━━━━━━━━━━\u001b[0m\u001b[37m\u001b[0m \u001b[1m13s\u001b[0m 2ms/step - Precision: 0.9995 - Recall: 0.9999 - loss: 0.0014 - val_Precision: 0.9991 - val_Recall: 1.0000 - val_loss: 0.0021\n",
            "Epoch 13/20\n",
            "\u001b[1m5687/5687\u001b[0m \u001b[32m━━━━━━━━━━━━━━━━━━━━\u001b[0m\u001b[37m\u001b[0m \u001b[1m14s\u001b[0m 2ms/step - Precision: 0.9996 - Recall: 0.9999 - loss: 0.0012 - val_Precision: 0.9995 - val_Recall: 1.0000 - val_loss: 0.0015\n",
            "Epoch 14/20\n",
            "\u001b[1m5687/5687\u001b[0m \u001b[32m━━━━━━━━━━━━━━━━━━━━\u001b[0m\u001b[37m\u001b[0m \u001b[1m12s\u001b[0m 2ms/step - Precision: 0.9997 - Recall: 0.9998 - loss: 0.0011 - val_Precision: 0.9991 - val_Recall: 1.0000 - val_loss: 0.0023\n",
            "Epoch 15/20\n",
            "\u001b[1m5687/5687\u001b[0m \u001b[32m━━━━━━━━━━━━━━━━━━━━\u001b[0m\u001b[37m\u001b[0m \u001b[1m12s\u001b[0m 2ms/step - Precision: 0.9997 - Recall: 0.9999 - loss: 0.0010 - val_Precision: 0.9990 - val_Recall: 1.0000 - val_loss: 0.0024\n",
            "Epoch 16/20\n",
            "\u001b[1m5687/5687\u001b[0m \u001b[32m━━━━━━━━━━━━━━━━━━━━\u001b[0m\u001b[37m\u001b[0m \u001b[1m20s\u001b[0m 2ms/step - Precision: 0.9995 - Recall: 0.9998 - loss: 0.0013 - val_Precision: 0.9994 - val_Recall: 1.0000 - val_loss: 0.0018\n",
            "Epoch 17/20\n",
            "\u001b[1m5687/5687\u001b[0m \u001b[32m━━━━━━━━━━━━━━━━━━━━\u001b[0m\u001b[37m\u001b[0m \u001b[1m12s\u001b[0m 2ms/step - Precision: 0.9997 - Recall: 0.9999 - loss: 0.0011 - val_Precision: 0.9993 - val_Recall: 1.0000 - val_loss: 0.0023\n",
            "Epoch 18/20\n",
            "\u001b[1m5687/5687\u001b[0m \u001b[32m━━━━━━━━━━━━━━━━━━━━\u001b[0m\u001b[37m\u001b[0m \u001b[1m12s\u001b[0m 2ms/step - Precision: 0.9997 - Recall: 0.9998 - loss: 9.7774e-04 - val_Precision: 0.9995 - val_Recall: 1.0000 - val_loss: 0.0012\n",
            "Epoch 19/20\n",
            "\u001b[1m5687/5687\u001b[0m \u001b[32m━━━━━━━━━━━━━━━━━━━━\u001b[0m\u001b[37m\u001b[0m \u001b[1m21s\u001b[0m 2ms/step - Precision: 0.9997 - Recall: 0.9998 - loss: 9.1090e-04 - val_Precision: 0.9992 - val_Recall: 1.0000 - val_loss: 0.0023\n",
            "Epoch 20/20\n",
            "\u001b[1m5687/5687\u001b[0m \u001b[32m━━━━━━━━━━━━━━━━━━━━\u001b[0m\u001b[37m\u001b[0m \u001b[1m12s\u001b[0m 2ms/step - Precision: 0.9997 - Recall: 0.9998 - loss: 8.4448e-04 - val_Precision: 0.9996 - val_Recall: 1.0000 - val_loss: 0.0013\n",
            "\u001b[1m3554/3554\u001b[0m \u001b[32m━━━━━━━━━━━━━━━━━━━━\u001b[0m\u001b[37m\u001b[0m \u001b[1m5s\u001b[0m 1ms/step\n",
            "              precision    recall  f1-score   support\n",
            "\n",
            "           0       1.00      1.00      1.00     56750\n",
            "           1       1.00      1.00      1.00     56976\n",
            "\n",
            "    accuracy                           1.00    113726\n",
            "   macro avg       1.00      1.00      1.00    113726\n",
            "weighted avg       1.00      1.00      1.00    113726\n",
            "\n"
          ]
        }
      ]
    },
    {
      "cell_type": "code",
      "source": [
        "import matplotlib.pyplot as plt\n",
        "import seaborn as sns\n",
        "import numpy as np\n",
        "\n",
        "# Plot the confusion matrix\n",
        "plt.figure(figsize=(6, 6))\n",
        "sns.heatmap(cm, annot=True, fmt=\"d\", cmap=\"Blues\", xticklabels=['Non-Fraud', 'Fraud'], yticklabels=['Non-Fraud', 'Fraud'])\n",
        "plt.xlabel(\"Predicted Labels\")\n",
        "plt.ylabel(\"True Labels\")\n",
        "plt.title(\"Confusion Matrix\")\n",
        "plt.show()\n"
      ],
      "metadata": {
        "colab": {
          "base_uri": "https://localhost:8080/",
          "height": 564
        },
        "id": "qM6tMtBdo0FS",
        "outputId": "059a3804-dd2e-42f0-f3e8-57dada5e9403"
      },
      "execution_count": 10,
      "outputs": [
        {
          "output_type": "display_data",
          "data": {
            "text/plain": [
              "<Figure size 600x600 with 2 Axes>"
            ],
            "image/png": "[encoded data removed]"
          },
          "metadata": {}
        }
      ]
    }
  ]
}